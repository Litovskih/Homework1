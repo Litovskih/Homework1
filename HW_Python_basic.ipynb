{
 "cells": [
  {
   "cell_type": "markdown",
   "metadata": {},
   "source": [
    "# Задание №1"
   ]
  },
  {
   "cell_type": "code",
   "execution_count": 6,
   "metadata": {},
   "outputs": [
    {
     "name": "stdout",
     "output_type": "stream",
     "text": [
      "Фраза 1 длиннее фразы 2\n"
     ]
    }
   ],
   "source": [
    "phrase_1 = 'Насколько проще было бы писать программы, если бы не заказчики'\n",
    "phrase_2 = '640Кб должно хватить для любых задач. Билл Гейтс (по легенде)'\n",
    "if len(phrase_1) > len(phrase_2):\n",
    "    print('Фраза 1 длиннее фразы 2')\n",
    "elif len(phrase_1) < len(phrase_2):\n",
    "    print('Фраза 2 длинее фразы 1')\n",
    "else:\n",
    "    print('Фразы равной длины')"
   ]
  },
  {
   "cell_type": "markdown",
   "metadata": {},
   "source": [
    "# Задание №2"
   ]
  },
  {
   "cell_type": "code",
   "execution_count": 8,
   "metadata": {},
   "outputs": [
    {
     "name": "stdout",
     "output_type": "stream",
     "text": [
      "Обычный год\n"
     ]
    }
   ],
   "source": [
    "year = 2020\n",
    "if (year % 4 == 0):\n",
    "    print('Високосный год')\n",
    "else:\n",
    "    print('Обычный год')"
   ]
  },
  {
   "cell_type": "markdown",
   "metadata": {},
   "source": [
    "# Задание №3"
   ]
  },
  {
   "cell_type": "code",
   "execution_count": 33,
   "metadata": {},
   "outputs": [
    {
     "name": "stdout",
     "output_type": "stream",
     "text": [
      "Введите день\n",
      "29\n",
      "Введите месяц\n",
      "Октябрь\n",
      "Ваш знак зодиака: Скорпион\n"
     ]
    }
   ],
   "source": [
    "print('Введите день')\n",
    "day = int(input())\n",
    "print('Введите месяц')\n",
    "month = input()\n",
    "znak = [['Овен',21,'Март',31,19,'Апрель'],\n",
    "        ['Телец',20,'Апрель',30,20,'Май'],\n",
    "        ['Близнецы',22,'Май',31,21,'Июнь'],\n",
    "        ['Рак',22,'Июнь',30,22,'Июль'],\n",
    "        ['Лев',23,'Июль',31,21,'Август'],\n",
    "        ['Дева',22,'Август',31,23,'Сентябрь'],\n",
    "        ['Весы',24,'Сентябрь',30,23,'Октябрь'],\n",
    "        ['Скорпион',24,'Октябрь',31,22,'Ноябрь'],\n",
    "        ['Стрелец',23,'Ноябрь',30,22,'Декабрь'],\n",
    "        ['Козерог',23,'Декабрь',31,20,'Январь'],\n",
    "        ['Водолей',21,'Январь',30,19,'Февраль'],\n",
    "        ['Рыбы',20,'Февраль',29,20,'Март']]\n",
    "for i in range(len(znak)):\n",
    "    if (day >= znak[i][1] and month == znak[i][2] and znak[i][1] <= znak[i][3]) or (day <= znak[i][4] and month == znak[i][5]):\n",
    "        print('Ваш знак зодиака:',znak[i][0])\n",
    "        break"
   ]
  },
  {
   "cell_type": "markdown",
   "metadata": {},
   "source": [
    "# Задание 4"
   ]
  },
  {
   "cell_type": "code",
   "execution_count": 40,
   "metadata": {},
   "outputs": [
    {
     "name": "stdout",
     "output_type": "stream",
     "text": [
      "Упаковка для лыж\n"
     ]
    }
   ],
   "source": [
    "width = 10\n",
    "length = 205\n",
    "height = 5\n",
    "if width < 15 and length < 15 and height < 15:\n",
    "    print('Коробка №1')\n",
    "elif (width > 15 and width < 50) or (length > 15 and length < 50) or (height > 15 and height < 50):\n",
    "    print('Коробка №2')\n",
    "elif length > 200:\n",
    "    print('Упаковка для лыж')\n",
    "else:\n",
    "    print('Стандартная коробка №3')"
   ]
  },
  {
   "cell_type": "markdown",
   "metadata": {},
   "source": [
    "# Задание №5"
   ]
  },
  {
   "cell_type": "code",
   "execution_count": 67,
   "metadata": {},
   "outputs": [
    {
     "name": "stdout",
     "output_type": "stream",
     "text": [
      "Несчастливый билет\n"
     ]
    }
   ],
   "source": [
    "number = 123456\n",
    "number = str(number)\n",
    "if sum([int(char) for char in number[:3]]) == sum([int(char) for char in number[-3:]]):\n",
    "    print('Счастливый билет')\n",
    "else:\n",
    "    print('Несчастливый билет')"
   ]
  },
  {
   "cell_type": "markdown",
   "metadata": {},
   "source": [
    "# Задание №6"
   ]
  },
  {
   "cell_type": "code",
   "execution_count": 80,
   "metadata": {},
   "outputs": [
    {
     "name": "stdout",
     "output_type": "stream",
     "text": [
      "Выберите тип фигуры\n",
      "треугольник\n",
      "Введите сторону A\n",
      "2\n",
      "Введите сторону B\n",
      "2\n",
      "Введите сторону C\n",
      "3\n",
      "Результат:\n",
      "Площадь треугольника: 1.98\n"
     ]
    }
   ],
   "source": [
    "import math\n",
    "print('Выберите тип фигуры')\n",
    "figure = input()\n",
    "if figure == 'круг':\n",
    "    print('Введите радиус круга')\n",
    "    r = int(input())\n",
    "    S = math.pi * r ** 2\n",
    "    print('Результат:')\n",
    "    print('Площадь круга:',round(S,2))\n",
    "elif figure == 'треугольник':\n",
    "    print('Введите сторону A')\n",
    "    a = int(input())\n",
    "    print('Введите сторону B')\n",
    "    b = int(input())\n",
    "    print('Введите сторону C')\n",
    "    c = int(input())\n",
    "    p = (a + b + c) / 2\n",
    "    S = math.sqrt((p*(p-a)*(p-b)*(p-c)))\n",
    "    print('Результат:')\n",
    "    print('Площадь треугольника:',round(S,2))\n",
    "elif figure == 'прямоугольник':\n",
    "    print('Введите сторону А')\n",
    "    a = int(input())\n",
    "    print('Введите сторону В')\n",
    "    b = int(input())\n",
    "    S = a * b\n",
    "    print('Результат:')\n",
    "    print('Площадь прямоугольника:',round(S,2))"
   ]
  }
 ],
 "metadata": {
  "kernelspec": {
   "display_name": "Python 3",
   "language": "python",
   "name": "python3"
  },
  "language_info": {
   "codemirror_mode": {
    "name": "ipython",
    "version": 3
   },
   "file_extension": ".py",
   "mimetype": "text/x-python",
   "name": "python",
   "nbconvert_exporter": "python",
   "pygments_lexer": "ipython3",
   "version": "3.8.3"
  }
 },
 "nbformat": 4,
 "nbformat_minor": 4
}
